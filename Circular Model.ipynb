{
 "cells": [
  {
   "cell_type": "code",
   "execution_count": 2,
   "metadata": {
    "scrolled": true
   },
   "outputs": [],
   "source": [
    "import random as rd\n",
    "import pandas as pd\n",
    "import math\n",
    "import numpy as np\n",
    "import matplotlib.pyplot as plt\n",
    "from io import BytesIO as io"
   ]
  },
  {
   "cell_type": "code",
   "execution_count": 3,
   "metadata": {},
   "outputs": [],
   "source": [
    "def expRand(factor):\n",
    "    #returns a random number between 0 and 1 from a \n",
    "    #sample of the form e^factor*x\n",
    "    while True:\n",
    "        xPos = rd.random()\n",
    "        yPos = rd.random()\n",
    "        if yPos < math.exp(factor*xPos):\n",
    "            return xPos"
   ]
  },
  {
   "cell_type": "markdown",
   "metadata": {},
   "source": [
    "# MODEL PARAMETERS"
   ]
  },
  {
   "cell_type": "code",
   "execution_count": 32,
   "metadata": {},
   "outputs": [],
   "source": [
    "#day params\n",
    "maxDays = 160\n",
    "\n",
    "#bottle params\n",
    "maxBottles = 1000 \n",
    "bottleSize = 5 #Litres\n",
    "bottleWeight = 0.129 #kg\n",
    "PETemissionsPerKg = 1#kg\n",
    "emissionsPerBottle = bottleWeight*PETemissionsPerKg  \n",
    "maxLifespan = 20 #days, maximum time a bottle will last before breaking.\n",
    "bottleRotationFactor = 2 #number of populations of rotating bottles\n",
    "\n",
    "#sanitiser params\n",
    "maxSani = maxBottles*bottleSize\n",
    "minSani = 1 #Litres, the smallest allowable amount before resupply\n",
    "studentsOnCampus = 25000\n",
    "usesPerStudent = 6 #number of times a student will use sanitiser in a day.\n",
    "LPerUse = 0.0016 \n",
    "degSpeed = 25 #arbitrary units, the average speed at which a bottle degrades.\n",
    "emissionsPerLSan = 0.01 #kg\n",
    "\n",
    "#delivery params\n",
    "supplyThreshold = 0.75 #fraction, the minimum unbroken bottles remaining before a resupply is required.\n",
    "supplierDist = 45 #Kilometers, distance a supplier has to travel to Monash\n",
    "emissionsPerKm = 0.113 #kg of carbon emissions per kilometer travelled.\n",
    "supplyType = 0\n",
    "deliveryType = 0\n",
    "\n",
    "#cost params\n",
    "workerHourlyRate = 30 #dollars\n",
    "replaceInteractionTime = 20 #seconds, time taken to replace an empty sanitiser bottle\n",
    "refillInteractionTime = replaceInteractionTime * 2 #seconds, time taken to refill an empty sanitiser bottle\n",
    "storageInteractionTime = 30 #seconds, time taken to store each empty bottle\n",
    "dirCostPerBottle = 50 #dollars, cost of each bottle in direct system\n",
    "circCostPerBottle = 50 #dollars, cost of each bottle in circular system\n",
    "deliveryCostPerKm = 2.92 #dollars per km\n",
    "deliveryCostPerbottle = 2*(60/192)\n",
    "\n",
    "#populations\n",
    "CIRCPLASPOP = [0]\n",
    "CIRCEMISPOP = [0]\n",
    "CIRCCOSTPOP = [0]\n",
    "CIRCSANIPOP = [0]\n",
    "\n",
    "DIRPLASPOP = [0]\n",
    "DIREMISPOP = [0]\n",
    "DIRCOSTPOP = [0]\n",
    "\n",
    "time = [0]\n",
    "\n",
    "circPopulation = [0]\n",
    "circAmount = [0]\n",
    "circCategory = [0]\n",
    "\n",
    "dirPopulation = [0]\n",
    "dirAmount = [0]\n",
    "dirCategory = [0]"
   ]
  },
  {
   "cell_type": "markdown",
   "metadata": {},
   "source": [
    "# CIRCULAR MODEL\n",
    "##### Supplier retrieves and drops off bottles in same trip.\n",
    "##### Supplier refills bottles at factory, functionally the same as direct model for workers."
   ]
  },
  {
   "cell_type": "code",
   "execution_count": 33,
   "metadata": {},
   "outputs": [],
   "source": [
    "currentDay = 0\n",
    "cycleDay = 0\n",
    "currentBottles = 1000\n",
    "currentSani = maxSani\n",
    "wasteBottles = 0\n",
    "while currentDay < maxDays:\n",
    "    CIRCPLASPOP.append(CIRCPLASPOP[-1])\n",
    "    CIRCEMISPOP.append(CIRCEMISPOP[-1])\n",
    "    CIRCCOSTPOP.append(CIRCCOSTPOP[-1])\n",
    "    \n",
    "    degThreshold = ((maxLifespan*bottleRotationFactor-cycleDay)/(maxLifespan*bottleRotationFactor))\n",
    "    brokenBottles = 0\n",
    "\n",
    "    #supply reset loop\n",
    "    if (maxBottles-wasteBottles)/maxBottles < supplyThreshold:\n",
    "\n",
    "        #when the number of broken bottles reaches a certain point, the supplier \n",
    "        #replaces the remaining old bottles with a new set of\n",
    "        #bottles and the life cycle restarts.\n",
    "        cycleDay = 0      \n",
    "        #increase plastic waste circPopulation by number of remaining old bottles\n",
    "        CIRCPLASPOP[-1] += (maxBottles-wasteBottles)*bottleWeight\n",
    "        #add production emissions of new bottles to replace the remaining old\n",
    "        #ones to emission circPopulation\n",
    "        CIRCEMISPOP[-1] += emissionsPerBottle*(maxBottles-wasteBottles)\n",
    "        circAmount.append(emissionsPerBottle*(maxBottles - currentBottles))\n",
    "        circCategory.append(\"bottle emissions\")\n",
    "        circPopulation.append(\"emissions\")\n",
    "        wasteBottles = 0\n",
    "\n",
    "    \n",
    "    #degradation loop\n",
    "    for i in range(currentBottles):\n",
    "        degFactor = expRand(-degSpeed)\n",
    "\n",
    "        if degFactor > degThreshold:\n",
    "            brokenBottles += 1\n",
    "            wasteBottles += 1\n",
    "            \n",
    "    #removing broken bottles + adding to waste\n",
    "    currentBottles -= brokenBottles\n",
    "    CIRCPLASPOP[-1] += (brokenBottles)*bottleWeight\n",
    "\n",
    "    #daily sani usage\n",
    "    currentSani -= studentsOnCampus*usesPerStudent*LPerUse\n",
    "\n",
    "    #restore Sani when sani drops below a certain circAmount\n",
    "    if currentSani < minSani:\n",
    "        currentSani = maxSani\n",
    "        #adding purchase cost\n",
    "        CIRCCOSTPOP[-1] += maxBottles*circCostPerBottle\n",
    "        #charge information\n",
    "        circAmount.append(maxBottles*circCostPerBottle)\n",
    "        circCategory.append(\"bottlecost\")\n",
    "        circPopulation.append(\"costs\")\n",
    "        #adding replacement cost\n",
    "        CIRCCOSTPOP[-1] += maxBottles*((replaceInteractionTime+storageInteractionTime) * (workerHourlyRate)/(60**2))\n",
    "        #charge information\n",
    "        circAmount.append(maxBottles*((replaceInteractionTime+storageInteractionTime) * (workerHourlyRate)/(60**2)))\n",
    "        circCategory.append(\"work cost\")\n",
    "        circPopulation.append(\"costs\")\n",
    "        #add delivery cost.\n",
    "        CIRCCOSTPOP[-1] += supplierDist*deliveryCostPerKm\n",
    "        circAmount.append(supplierDist*deliveryCostPerKm)\n",
    "        circCategory.append(\"delivery\")\n",
    "        circPopulation.append(\"costs\")\n",
    "        #adding delivery Emissions\n",
    "        CIRCEMISPOP[-1] += (supplierDist*emissionsPerKm)\n",
    "        circAmount.append(supplierDist*emissionsPerKm)\n",
    "        circCategory.append(\"delivery emissions\")\n",
    "        circPopulation.append(\"emissions\")\n",
    "        #adding manufacture emissions\n",
    "        CIRCEMISPOP[-1] += (maxBottles*bottleSize*emissionsPerLSan)\n",
    "        circAmount.append(maxBottles*bottleSize*emissionsPerLSan)\n",
    "        circCategory.append(\"manufacture emissions\")\n",
    "        circPopulation.append(\"emissions\")\n",
    "        \n",
    "        #replacing broken bottles\n",
    "\n",
    "        CIRCEMISPOP[-1] += emissionsPerBottle*(maxBottles - currentBottles)\n",
    "        currentBottles = maxBottles\n",
    "        circAmount.append(emissionsPerBottle*(maxBottles - currentBottles))\n",
    "        circCategory.append(\"bottle emissions\")\n",
    "        circPopulation.append(\"emissions\")\n",
    "        \n",
    "    time.append(currentDay)\n",
    "    CIRCSANIPOP.append(currentSani)\n",
    "    currentDay += 1\n",
    "    cycleDay += 1"
   ]
  },
  {
   "cell_type": "markdown",
   "metadata": {},
   "source": [
    "## SPECIFIC SUPPLIER MODEL"
   ]
  },
  {
   "cell_type": "code",
   "execution_count": 230,
   "metadata": {},
   "outputs": [],
   "source": [
    "currentDay = 0\n",
    "cycleDay = 0\n",
    "currentBottles = 1000\n",
    "currentSani = maxSani\n",
    "wasteBottles = 0\n",
    "while currentDay < maxDays:\n",
    "    CIRCPLASPOP.append(CIRCPLASPOP[-1])\n",
    "    CIRCEMISPOP.append(CIRCEMISPOP[-1])\n",
    "    CIRCCOSTPOP.append(CIRCCOSTPOP[-1])\n",
    "    \n",
    "    degThreshold = ((maxLifespan*bottleRotationFactor-cycleDay)/(maxLifespan*bottleRotationFactor))\n",
    "    brokenBottles = 0\n",
    "\n",
    "    #supply reset loop\n",
    "    if (maxBottles-wasteBottles)/maxBottles < supplyThreshold:\n",
    "\n",
    "        #when the number of broken bottles reaches a certain point, the supplier \n",
    "        #replaces the remaining old bottles with a new set of\n",
    "        #bottles and the life cycle restarts.\n",
    "        cycleDay = 0      \n",
    "        #increase plastic waste circPopulation by number of remaining old bottles\n",
    "        CIRCPLASPOP[-1] += (maxBottles-wasteBottles)*bottleWeight\n",
    "        #add production emissions of new bottles to replace the remaining old\n",
    "        #ones to emission circPopulation\n",
    "        CIRCEMISPOP[-1] += emissionsPerBottle*(maxBottles-wasteBottles)\n",
    "        circAmount.append(emissionsPerBottle*(maxBottles - currentBottles))\n",
    "        circCategory.append(\"bottle emissions\")\n",
    "        circPopulation.append(\"emissions\")\n",
    "        wasteBottles = 0\n",
    "\n",
    "    \n",
    "    #degradation loop\n",
    "    for i in range(currentBottles):\n",
    "        degFactor = expRand(-degSpeed)\n",
    "\n",
    "        if degFactor > degThreshold:\n",
    "            brokenBottles += 1\n",
    "            wasteBottles += 1\n",
    "            \n",
    "    #removing broken bottles + adding to waste\n",
    "    currentBottles -= brokenBottles\n",
    "    CIRCPLASPOP[-1] += (brokenBottles)*bottleWeight\n",
    "\n",
    "    #daily sani usage\n",
    "    currentSani -= studentsOnCampus*usesPerStudent*LPerUse\n",
    "\n",
    "    #restore Sani when sani drops below a certain circAmount\n",
    "    if currentSani < minSani:\n",
    "        currentSani = maxSani\n",
    "        #adding purchase cost\n",
    "        CIRCCOSTPOP[-1] += maxBottles*circCostPerBottle\n",
    "        #charge information\n",
    "        circAmount.append(maxBottles*circCostPerBottle)\n",
    "        circCategory.append(\"bottlecost\")\n",
    "        circPopulation.append(\"costs\")\n",
    "        #adding replacement cost\n",
    "        CIRCCOSTPOP[-1] += maxBottles*((replaceInteractionTime+storageInteractionTime) * (workerHourlyRate)/(60**2))\n",
    "        #charge information\n",
    "        circAmount.append(maxBottles*((replaceInteractionTime+storageInteractionTime) * (workerHourlyRate)/(60**2)))\n",
    "        circCategory.append(\"work cost\")\n",
    "        circPopulation.append(\"costs\")\n",
    "        #add delivery cost.\n",
    "        CIRCCOSTPOP[-1] += maxBottles*deliveryCostPerbottle\n",
    "        circAmount.append(supplierDist*deliveryCostPerKm)\n",
    "        circCategory.append(\"delivery\")\n",
    "        circPopulation.append(\"costs\")\n",
    "        #adding delivery Emissions\n",
    "        CIRCEMISPOP[-1] += (supplierDist*emissionsPerKm)\n",
    "        circAmount.append(supplierDist*gramPerKm)\n",
    "        circCategory.append(\"delivery emissions\")\n",
    "        circPopulation.append(\"emissions\")\n",
    "        #adding manufacture emissions\n",
    "        CIRCEMISPOP[-1] += (maxBottles*bottleSize*emissionsPerLSan)\n",
    "        circAmount.append(maxBottles*bottleSize*emissionsPerLSan)\n",
    "        circCategory.append(\"manufacture emissions\")\n",
    "        circPopulation.append(\"emissions\")\n",
    "        \n",
    "        #replacing broken bottles\n",
    "\n",
    "        CIRCEMISPOP[-1] += emissionsPerBottle*(maxBottles - currentBottles)\n",
    "        currentBottles = maxBottles\n",
    "        circAmount.append(emissionsPerBottle*(maxBottles - currentBottles))\n",
    "        circCategory.append(\"bottle emissions\")\n",
    "        circPopulation.append(\"emissions\")\n",
    "        \n",
    "    time.append(currentDay)\n",
    "    CIRCSANIPOP.append(currentSani)\n",
    "    currentDay += 1\n",
    "    cycleDay += 1"
   ]
  },
  {
   "cell_type": "markdown",
   "metadata": {},
   "source": [
    "# DIRECT MODEL"
   ]
  },
  {
   "cell_type": "code",
   "execution_count": 34,
   "metadata": {},
   "outputs": [],
   "source": [
    "#DIRECT\n",
    "\n",
    "currentDay = 0\n",
    "cycleDay = 0\n",
    "currentBottles = 1000\n",
    "currentSani = maxSani\n",
    "\n",
    "while currentDay < maxDays:\n",
    "\n",
    "    DIRPLASPOP.append(DIRPLASPOP[-1])\n",
    "    DIREMISPOP.append(DIREMISPOP[-1])\n",
    "    DIRCOSTPOP.append(DIRCOSTPOP[-1])\n",
    "    \n",
    "    #daily sani usage\n",
    "    currentSani -= studentsOnCampus*usesPerStudent*LPerUse\n",
    "    \n",
    "    if currentSani < minSani:\n",
    "        currentSani = maxSani\n",
    "        \n",
    "        #purchase cost\n",
    "        DIRCOSTPOP[-1] += maxBottles*dirCostPerBottle\n",
    "        dirAmount.append(maxBottles*dirCostPerBottle)\n",
    "        dirCategory.append(\"bottle\")\n",
    "        dirPopulation.append(\"costs\")\n",
    "        #delivery emissions\n",
    "        DIREMISPOP[-1] += (supplierDist*emissionsPerKm)\n",
    "        dirAmount.append(supplierDist*emissionsPerKm)\n",
    "        dirCategory.append(\"delivery\")\n",
    "        dirPopulation.append(\"emissions\")\n",
    "        #production emissions\n",
    "        DIREMISPOP[-1] += emissionsPerBottle*maxBottles\n",
    "        dirAmount.append(emissionsPerBottle*maxBottles)\n",
    "        dirCategory.append(\"bottle\")\n",
    "        dirPopulation.append(\"emissions\")\n",
    "        #replacement cost\n",
    "        DIRCOSTPOP[-1] += maxBottles*(replaceInteractionTime * (workerHourlyRate)/(60**2))\n",
    "        dirAmount.append(maxBottles*(replaceInteractionTime * (workerHourlyRate)/(60**2)))\n",
    "        dirCategory.append(\"worker\")\n",
    "        dirPopulation.append(\"costs\")\n",
    "        #delivery cost\n",
    "        DIRCOSTPOP[-1] += supplierDist*deliveryCostPerKm\n",
    "        dirAmount.append(supplierDist*deliveryCostPerKm)\n",
    "        dirCategory.append(\"delivery\")\n",
    "        dirPopulation.append(\"costs\")\n",
    "        #adding manufacture emissions\n",
    "        DIREMISPOP[-1] += (maxBottles*bottleSize*emissionsPerLSan)\n",
    "        dirAmount.append(maxBottles*bottleSize*emissionsPerLSan)\n",
    "        dirCategory.append(\"manufacture emissions\")\n",
    "        dirPopulation.append(\"emissions\")\n",
    "\n",
    "        #increase plastic pop\n",
    "        DIRPLASPOP[-1] += (currentBottles)*bottleWeight\n",
    "\n",
    "    currentDay += 1\n"
   ]
  },
  {
   "cell_type": "code",
   "execution_count": 38,
   "metadata": {
    "scrolled": true
   },
   "outputs": [
    {
     "data": {
      "image/png": "[encoded data removed]",
      "text/plain": [
       "<Figure size 576x288 with 1 Axes>"
      ]
     },
     "metadata": {
      "needs_background": "light"
     },
     "output_type": "display_data"
    }
   ],
   "source": [
    "fig, ax1 = plt.subplots(figsize=(8,4))\n",
    "\n",
    "ax1.set_title('EMISSIONS', fontsize = 19)\n",
    "ax1.set_ylabel('CO2 (tonnes)', fontsize = 17)\n",
    "ax1.set_xlabel('days', fontsize = 17)\n",
    "ax1.set_yticklabels([0,0,0.2,0.4,0.6,0.8,1,1.2], Fontsize = 14)\n",
    "ax1.set_xticklabels([0,0,20,40,60,80,100,120,140,160],Fontsize= 14)\n",
    "ax1.plot(time, CIRCEMISPOP, label = 'CIRCULAR', color = '#4ba173')\n",
    "ax1.plot(time, DIREMISPOP, label = 'DIRECT', color = '#424242')\n",
    "\n",
    "ax1.legend(loc='upper left', frameon=False, fontsize = 14)\n",
    "#ax1.spines[\"top\"].set_visible(False)    \n",
    "#ax1.spines[\"bottom\"].set_visible(False)    \n",
    "ax1.spines[\"right\"].set_visible(False)    \n",
    "ax1.spines[\"left\"].set_visible(False) \n",
    "\n",
    "\n",
    "fig.tight_layout()\n",
    "plt.show()"
   ]
  },
  {
   "cell_type": "code",
   "execution_count": 40,
   "metadata": {},
   "outputs": [
    {
     "data": {
      "image/png": "[encoded data removed]",
      "text/plain": [
       "<Figure size 576x288 with 1 Axes>"
      ]
     },
     "metadata": {
      "needs_background": "light"
     },
     "output_type": "display_data"
    }
   ],
   "source": [
    "\n",
    "fig, ax1 = plt.subplots(figsize=(8,4))\n",
    "\n",
    "ax1.set_title('PLASTIC', fontsize = 19)\n",
    "ax1.set_ylabel('Plastic Waste (tonnes)', fontsize = 17)\n",
    "ax1.set_xlabel('days', fontsize = 17)\n",
    "ax1.set_yticklabels([0,0,0.2,0.4,0.6,0.8], Fontsize = 14)\n",
    "ax1.set_xticklabels([0,0,20,40,60,80,100,120,140,160],Fontsize= 14)\n",
    "ax1.plot(time, CIRCPLASPOP, label = 'CIRCULAR', color = '#4ba173')\n",
    "ax1.plot(time, DIRPLASPOP, label = 'DIRECT', color = '#424242')\n",
    "\n",
    "ax1.legend(loc='upper left', frameon=False, fontsize = 14)\n",
    "  \n",
    "ax1.spines[\"right\"].set_visible(False)    \n",
    "ax1.spines[\"left\"].set_visible(False) \n",
    "\n",
    "\n",
    "fig.tight_layout()\n",
    "plt.show()\n"
   ]
  },
  {
   "cell_type": "code",
   "execution_count": 37,
   "metadata": {},
   "outputs": [
    {
     "data": {
      "image/png": "[encoded data removed]",
      "text/plain": [
       "<Figure size 576x288 with 1 Axes>"
      ]
     },
     "metadata": {
      "needs_background": "light"
     },
     "output_type": "display_data"
    }
   ],
   "source": [
    "fig, ax1 = plt.subplots(figsize=(8,4))\n",
    "\n",
    "ax1.set_title('COSTS', fontsize = 19)\n",
    "ax1.set_ylabel('AUD', fontsize = 17)\n",
    "ax1.set_xlabel('days', fontsize = 17)\n",
    "ax1.set_yticklabels(['0','0','50k','100k','150k','200k','250k','300k','350k'], Fontsize = 14)\n",
    "ax1.set_xticklabels([0,0,20,40,60,80,100,120,140,160],Fontsize= 14)\n",
    "ax1.plot(time, CIRCCOSTPOP, label = 'CIRCULAR', color = '#4ba173')\n",
    "ax1.plot(time, DIRCOSTPOP, label = 'DIRECT', color = '#424242')\n",
    "\n",
    "ax1.legend(loc='upper left', frameon=False, fontsize = 14)\n",
    "#ax1.spines[\"top\"].set_visible(False)    \n",
    "#ax1.spines[\"bottom\"].set_visible(False)    \n",
    "ax1.spines[\"right\"].set_visible(False)    \n",
    "ax1.spines[\"left\"].set_visible(False) \n",
    "\n",
    "\n",
    "fig.tight_layout()\n",
    "plt.show()"
   ]
  },
  {
   "cell_type": "code",
   "execution_count": 181,
   "metadata": {},
   "outputs": [
    {
     "name": "stdout",
     "output_type": "stream",
     "text": [
      "Measures of key metrics after 1 year of operation are:\n",
      "1608.2279999999994  kg of CO2 Emitted\n",
      "500.3910000000004  kg of plastic used\n",
      "costing $ 792720.0\n"
     ]
    }
   ],
   "source": [
    "print('Measures of key metrics after 1 year of operation are:')\n",
    "print(CIRCEMISPOP[-1], ' kg of CO2 Emitted')\n",
    "print(CIRCPLASPOP[-1], ' kg of plastic used')\n",
    "print('costing $',CIRCCOSTPOP[-1])"
   ]
  },
  {
   "cell_type": "code",
   "execution_count": 30,
   "metadata": {},
   "outputs": [],
   "source": [
    "#CSV export\n",
    "\n",
    "data = {\n",
    "    'time':time,\n",
    "    'circ plastic waste': CIRCPLASPOP,\n",
    "    'circ emissions': CIRCEMISPOP,\n",
    "    'circ costs': CIRCCOSTPOP,\n",
    "    'dir plastic waste': DIRPLASPOP,\n",
    "    'dir emissions': DIREMISPOP,\n",
    "    'dir costs': DIRCOSTPOP}\n",
    "\n",
    "df = pd.DataFrame(data)\n",
    "df.to_csv('comparativeData.csv')\n",
    "\n"
   ]
  },
  {
   "cell_type": "code",
   "execution_count": 226,
   "metadata": {},
   "outputs": [],
   "source": [
    "chargeData = {\n",
    "    'population':circPopulation,\n",
    "    'category':circCategory,\n",
    "    'amount':circAmount}\n",
    "\n",
    "chargeDf = pd.DataFrame(chargeData)\n",
    "chargeDf.to_csv('circPopulationBreakdown.csv')\n"
   ]
  },
  {
   "cell_type": "code",
   "execution_count": 227,
   "metadata": {},
   "outputs": [],
   "source": [
    "dirPopData = {\n",
    "    'population':dirPopulation,\n",
    "    'category':dirCategory,\n",
    "    'amount':dirAmount}\n",
    "\n",
    "dirPopDf = pd.DataFrame(dirPopData)\n",
    "dirPopDf.to_csv('dirPopulationBreakdown.csv')\n",
    "\n"
   ]
  },
  {
   "cell_type": "code",
   "execution_count": 1,
   "metadata": {},
   "outputs": [
    {
     "ename": "ValueError",
     "evalue": "invalid literal for int() with base 10: ''",
     "output_type": "error",
     "traceback": [
      "\u001b[1;31m---------------------------------------------------------------------------\u001b[0m",
      "\u001b[1;31mValueError\u001b[0m                                Traceback (most recent call last)",
      "\u001b[1;32m<ipython-input-1-1f3cd6bc377a>\u001b[0m in \u001b[0;36m<module>\u001b[1;34m\u001b[0m\n\u001b[1;32m----> 1\u001b[1;33m \u001b[0mprint\u001b[0m\u001b[1;33m(\u001b[0m\u001b[0mint\u001b[0m\u001b[1;33m(\u001b[0m\u001b[1;34m''\u001b[0m\u001b[1;33m)\u001b[0m\u001b[1;33m)\u001b[0m\u001b[1;33m\u001b[0m\u001b[1;33m\u001b[0m\u001b[0m\n\u001b[0m",
      "\u001b[1;31mValueError\u001b[0m: invalid literal for int() with base 10: ''"
     ]
    }
   ],
   "source": [
    "print(int(''))"
   ]
  },
  {
   "cell_type": "code",
   "execution_count": null,
   "metadata": {},
   "outputs": [],
   "source": []
  }
 ],
 "metadata": {
  "kernelspec": {
   "display_name": "Python 3",
   "language": "python",
   "name": "python3"
  },
  "language_info": {
   "codemirror_mode": {
    "name": "ipython",
    "version": 3
   },
   "file_extension": ".py",
   "mimetype": "text/x-python",
   "name": "python",
   "nbconvert_exporter": "python",
   "pygments_lexer": "ipython3",
   "version": "3.7.4"
  }
 },
 "nbformat": 4,
 "nbformat_minor": 2
}
